{
 "cells": [
  {
   "cell_type": "code",
   "execution_count": 1,
   "id": "b85ea61f",
   "metadata": {},
   "outputs": [
    {
     "name": "stdout",
     "output_type": "stream",
     "text": [
      "Defaulting to user installation because normal site-packages is not writeable\n",
      "Requirement already satisfied: opendatasets in c:\\users\\admin\\appdata\\roaming\\python\\python312\\site-packages (0.1.22)\n",
      "Requirement already satisfied: tqdm in c:\\users\\admin\\appdata\\roaming\\python\\python312\\site-packages (from opendatasets) (4.67.1)\n",
      "Requirement already satisfied: kaggle in c:\\users\\admin\\appdata\\roaming\\python\\python312\\site-packages (from opendatasets) (1.6.17)\n",
      "Requirement already satisfied: click in c:\\users\\admin\\appdata\\roaming\\python\\python312\\site-packages (from opendatasets) (8.1.8)\n",
      "Requirement already satisfied: colorama in c:\\users\\admin\\appdata\\roaming\\python\\python312\\site-packages (from click->opendatasets) (0.4.6)\n",
      "Requirement already satisfied: six>=1.10 in c:\\users\\admin\\appdata\\roaming\\python\\python312\\site-packages (from kaggle->opendatasets) (1.16.0)\n",
      "Requirement already satisfied: certifi>=2023.7.22 in c:\\users\\admin\\appdata\\roaming\\python\\python312\\site-packages (from kaggle->opendatasets) (2024.8.30)\n",
      "Requirement already satisfied: python-dateutil in c:\\users\\admin\\appdata\\roaming\\python\\python312\\site-packages (from kaggle->opendatasets) (2.9.0.post0)\n",
      "Requirement already satisfied: requests in c:\\users\\admin\\appdata\\roaming\\python\\python312\\site-packages (from kaggle->opendatasets) (2.32.3)\n",
      "Requirement already satisfied: python-slugify in c:\\users\\admin\\appdata\\roaming\\python\\python312\\site-packages (from kaggle->opendatasets) (8.0.4)\n",
      "Requirement already satisfied: urllib3 in c:\\users\\admin\\appdata\\roaming\\python\\python312\\site-packages (from kaggle->opendatasets) (2.2.3)\n",
      "Requirement already satisfied: bleach in c:\\users\\admin\\appdata\\roaming\\python\\python312\\site-packages (from kaggle->opendatasets) (6.2.0)\n",
      "Requirement already satisfied: webencodings in c:\\users\\admin\\appdata\\roaming\\python\\python312\\site-packages (from bleach->kaggle->opendatasets) (0.5.1)\n",
      "Requirement already satisfied: text-unidecode>=1.3 in c:\\users\\admin\\appdata\\roaming\\python\\python312\\site-packages (from python-slugify->kaggle->opendatasets) (1.3)\n",
      "Requirement already satisfied: charset-normalizer<4,>=2 in c:\\users\\admin\\appdata\\roaming\\python\\python312\\site-packages (from requests->kaggle->opendatasets) (3.3.2)\n",
      "Requirement already satisfied: idna<4,>=2.5 in c:\\users\\admin\\appdata\\roaming\\python\\python312\\site-packages (from requests->kaggle->opendatasets) (3.10)\n",
      "Note: you may need to restart the kernel to use updated packages.\n"
     ]
    }
   ],
   "source": [
    "%pip install opendatasets "
   ]
  },
  {
   "cell_type": "code",
   "execution_count": 39,
   "id": "c58fa20f",
   "metadata": {},
   "outputs": [],
   "source": [
    "import opendatasets as od\n",
    "import pandas as pd "
   ]
  },
  {
   "cell_type": "code",
   "execution_count": 40,
   "id": "c1bf7634",
   "metadata": {},
   "outputs": [],
   "source": [
    "dataset = \"https://www.kaggle.com/datasets/atharvasoundankar/global-housing-market-analysis-2015-2024\" "
   ]
  },
  {
   "cell_type": "code",
   "execution_count": 41,
   "id": "af5019d5",
   "metadata": {},
   "outputs": [
    {
     "name": "stdout",
     "output_type": "stream",
     "text": [
      "Please provide your Kaggle credentials to download this dataset. Learn more: http://bit.ly/kaggle-creds\n",
      "Your Kaggle username:Your Kaggle Key:Dataset URL: https://www.kaggle.com/datasets/atharvasoundankar/global-housing-market-analysis-2015-2024\n",
      "Downloading global-housing-market-analysis-2015-2024.zip to .\\global-housing-market-analysis-2015-2024\n"
     ]
    },
    {
     "name": "stderr",
     "output_type": "stream",
     "text": [
      "100%|██████████| 17.9k/17.9k [00:00<00:00, 140kB/s]"
     ]
    },
    {
     "name": "stdout",
     "output_type": "stream",
     "text": [
      "\n"
     ]
    },
    {
     "name": "stderr",
     "output_type": "stream",
     "text": [
      "\n"
     ]
    }
   ],
   "source": [
    "od.download(dataset)"
   ]
  },
  {
   "cell_type": "code",
   "execution_count": 33,
   "id": "977e593f",
   "metadata": {},
   "outputs": [],
   "source": [
    "import os"
   ]
  },
  {
   "cell_type": "code",
   "execution_count": 43,
   "id": "11a71d08",
   "metadata": {},
   "outputs": [],
   "source": [
    "data_dir = ('./global-housing-market-analysis-2015-2024')"
   ]
  },
  {
   "cell_type": "code",
   "execution_count": 44,
   "id": "68cd3332",
   "metadata": {},
   "outputs": [
    {
     "data": {
      "text/plain": [
       "['global_housing_market_extended.csv']"
      ]
     },
     "execution_count": 44,
     "metadata": {},
     "output_type": "execute_result"
    }
   ],
   "source": [
    "os.listdir(data_dir)  "
   ]
  },
  {
   "cell_type": "code",
   "execution_count": 51,
   "id": "dd026603",
   "metadata": {},
   "outputs": [],
   "source": [
    "df = pd.read_csv('global_housing_market_extended.csv')"
   ]
  },
  {
   "cell_type": "code",
   "execution_count": 52,
   "id": "0fd9c9e2",
   "metadata": {},
   "outputs": [
    {
     "name": "stdout",
     "output_type": "stream",
     "text": [
      "  Country  Year  House Price Index  Rent Index  Affordability Ratio  \\\n",
      "0     USA  2015         117.454012  116.550001             9.587945   \n",
      "1     USA  2016         150.807258   51.440915            11.729189   \n",
      "2     USA  2017         123.194502   70.386040             8.506676   \n",
      "3     USA  2018         131.423444   91.469020             3.418054   \n",
      "4     USA  2019         110.461377   56.837048             9.158097   \n",
      "\n",
      "   Mortgage Rate (%)  Inflation Rate (%)  GDP Growth (%)  \\\n",
      "0           4.493292            1.514121       -0.752044   \n",
      "1           5.662213            1.880204       -0.545400   \n",
      "2           2.197469            2.398940        0.930895   \n",
      "3           4.537724            1.608407       -1.479587   \n",
      "4           3.700762            1.293249        1.961415   \n",
      "\n",
      "   Population Growth (%)  Urbanization Rate (%)  Construction Index  \n",
      "0              -0.796707              85.985284          118.089201  \n",
      "1              -0.358084              69.127267          111.980515  \n",
      "2               0.596245              83.555279           85.973903  \n",
      "3               2.321099              88.968961          134.671788  \n",
      "4              -0.879640              87.279612           90.702399  \n"
     ]
    }
   ],
   "source": [
    "df = df.head()\n",
    "print(df)"
   ]
  },
  {
   "cell_type": "code",
   "execution_count": 53,
   "id": "c2ef2473",
   "metadata": {},
   "outputs": [
    {
     "data": {
      "text/plain": [
       "Index(['Country', 'Year', 'House Price Index', 'Rent Index',\n",
       "       'Affordability Ratio', 'Mortgage Rate (%)', 'Inflation Rate (%)',\n",
       "       'GDP Growth (%)', 'Population Growth (%)', 'Urbanization Rate (%)',\n",
       "       'Construction Index'],\n",
       "      dtype='object')"
      ]
     },
     "execution_count": 53,
     "metadata": {},
     "output_type": "execute_result"
    }
   ],
   "source": [
    "df.columns"
   ]
  },
  {
   "cell_type": "code",
   "execution_count": 54,
   "id": "0f15696b",
   "metadata": {},
   "outputs": [
    {
     "data": {
      "text/plain": [
       "Country                  0\n",
       "Year                     0\n",
       "House Price Index        0\n",
       "Rent Index               0\n",
       "Affordability Ratio      0\n",
       "Mortgage Rate (%)        0\n",
       "Inflation Rate (%)       0\n",
       "GDP Growth (%)           0\n",
       "Population Growth (%)    0\n",
       "Urbanization Rate (%)    0\n",
       "Construction Index       0\n",
       "dtype: int64"
      ]
     },
     "execution_count": 54,
     "metadata": {},
     "output_type": "execute_result"
    }
   ],
   "source": [
    "#Check for missing and inconsistent data\n",
    "\n",
    "df.isnull().sum()"
   ]
  },
  {
   "cell_type": "code",
   "execution_count": 55,
   "id": "fd4e22aa",
   "metadata": {},
   "outputs": [
    {
     "data": {
      "text/plain": [
       "np.int64(0)"
      ]
     },
     "execution_count": 55,
     "metadata": {},
     "output_type": "execute_result"
    }
   ],
   "source": [
    "#check for duplicates\n",
    "df.duplicated().sum()"
   ]
  },
  {
   "cell_type": "code",
   "execution_count": 58,
   "id": "42c98c6a",
   "metadata": {},
   "outputs": [],
   "source": [
    "#convert data types\n",
    "df['Year'] = pd.to_datetime(df['Year'], format= '%Y', errors= 'coerce') "
   ]
  },
  {
   "cell_type": "code",
   "execution_count": 61,
   "id": "38d715f6",
   "metadata": {},
   "outputs": [],
   "source": [
    "#standardize column names\n",
    "df.columns = df.columns.str.strip().str.lower().str.replace(\" \", \"_\") "
   ]
  },
  {
   "cell_type": "code",
   "execution_count": 63,
   "id": "b9d86533",
   "metadata": {},
   "outputs": [
    {
     "data": {
      "text/plain": [
       "Index(['country', 'year', 'house_price_index', 'rent_index',\n",
       "       'affordability_ratio', 'mortgage_rate_(%)', 'inflation_rate_(%)',\n",
       "       'gdp_growth_(%)', 'population_growth_(%)', 'urbanization_rate_(%)',\n",
       "       'construction_index'],\n",
       "      dtype='object')"
      ]
     },
     "execution_count": 63,
     "metadata": {},
     "output_type": "execute_result"
    }
   ],
   "source": [
    "#Check out the columns again after standardizing\n",
    "df.columns"
   ]
  },
  {
   "cell_type": "code",
   "execution_count": null,
   "id": "02568f4f",
   "metadata": {},
   "outputs": [
    {
     "data": {
      "text/html": [
       "<div>\n",
       "<style scoped>\n",
       "    .dataframe tbody tr th:only-of-type {\n",
       "        vertical-align: middle;\n",
       "    }\n",
       "\n",
       "    .dataframe tbody tr th {\n",
       "        vertical-align: top;\n",
       "    }\n",
       "\n",
       "    .dataframe thead th {\n",
       "        text-align: right;\n",
       "    }\n",
       "</style>\n",
       "<table border=\"1\" class=\"dataframe\">\n",
       "  <thead>\n",
       "    <tr style=\"text-align: right;\">\n",
       "      <th></th>\n",
       "      <th>country</th>\n",
       "      <th>year</th>\n",
       "      <th>house_price_index</th>\n",
       "      <th>rent_index</th>\n",
       "      <th>affordability_ratio</th>\n",
       "      <th>mortgage_rate_(%)</th>\n",
       "      <th>inflation_rate_(%)</th>\n",
       "      <th>gdp_growth_(%)</th>\n",
       "      <th>population_growth_(%)</th>\n",
       "      <th>urbanization_rate_(%)</th>\n",
       "      <th>construction_index</th>\n",
       "    </tr>\n",
       "  </thead>\n",
       "  <tbody>\n",
       "    <tr>\n",
       "      <th>0</th>\n",
       "      <td>USA</td>\n",
       "      <td>2015-01-01</td>\n",
       "      <td>117.454012</td>\n",
       "      <td>116.550001</td>\n",
       "      <td>9.587945</td>\n",
       "      <td>4.493292</td>\n",
       "      <td>1.514121</td>\n",
       "      <td>-0.752044</td>\n",
       "      <td>-0.796707</td>\n",
       "      <td>85.985284</td>\n",
       "      <td>118.089201</td>\n",
       "    </tr>\n",
       "    <tr>\n",
       "      <th>1</th>\n",
       "      <td>USA</td>\n",
       "      <td>2016-01-01</td>\n",
       "      <td>150.807258</td>\n",
       "      <td>51.440915</td>\n",
       "      <td>11.729189</td>\n",
       "      <td>5.662213</td>\n",
       "      <td>1.880204</td>\n",
       "      <td>-0.545400</td>\n",
       "      <td>-0.358084</td>\n",
       "      <td>69.127267</td>\n",
       "      <td>111.980515</td>\n",
       "    </tr>\n",
       "    <tr>\n",
       "      <th>2</th>\n",
       "      <td>USA</td>\n",
       "      <td>2017-01-01</td>\n",
       "      <td>123.194502</td>\n",
       "      <td>70.386040</td>\n",
       "      <td>8.506676</td>\n",
       "      <td>2.197469</td>\n",
       "      <td>2.398940</td>\n",
       "      <td>0.930895</td>\n",
       "      <td>0.596245</td>\n",
       "      <td>83.555279</td>\n",
       "      <td>85.973903</td>\n",
       "    </tr>\n",
       "    <tr>\n",
       "      <th>3</th>\n",
       "      <td>USA</td>\n",
       "      <td>2018-01-01</td>\n",
       "      <td>131.423444</td>\n",
       "      <td>91.469020</td>\n",
       "      <td>3.418054</td>\n",
       "      <td>4.537724</td>\n",
       "      <td>1.608407</td>\n",
       "      <td>-1.479587</td>\n",
       "      <td>2.321099</td>\n",
       "      <td>88.968961</td>\n",
       "      <td>134.671788</td>\n",
       "    </tr>\n",
       "    <tr>\n",
       "      <th>4</th>\n",
       "      <td>USA</td>\n",
       "      <td>2019-01-01</td>\n",
       "      <td>110.461377</td>\n",
       "      <td>56.837048</td>\n",
       "      <td>9.158097</td>\n",
       "      <td>3.700762</td>\n",
       "      <td>1.293249</td>\n",
       "      <td>1.961415</td>\n",
       "      <td>-0.879640</td>\n",
       "      <td>87.279612</td>\n",
       "      <td>90.702399</td>\n",
       "    </tr>\n",
       "  </tbody>\n",
       "</table>\n",
       "</div>"
      ],
      "text/plain": [
       "  country       year  house_price_index  rent_index  affordability_ratio  \\\n",
       "0     USA 2015-01-01         117.454012  116.550001             9.587945   \n",
       "1     USA 2016-01-01         150.807258   51.440915            11.729189   \n",
       "2     USA 2017-01-01         123.194502   70.386040             8.506676   \n",
       "3     USA 2018-01-01         131.423444   91.469020             3.418054   \n",
       "4     USA 2019-01-01         110.461377   56.837048             9.158097   \n",
       "\n",
       "   mortgage_rate_(%)  inflation_rate_(%)  gdp_growth_(%)  \\\n",
       "0           4.493292            1.514121       -0.752044   \n",
       "1           5.662213            1.880204       -0.545400   \n",
       "2           2.197469            2.398940        0.930895   \n",
       "3           4.537724            1.608407       -1.479587   \n",
       "4           3.700762            1.293249        1.961415   \n",
       "\n",
       "   population_growth_(%)  urbanization_rate_(%)  construction_index  \n",
       "0              -0.796707              85.985284          118.089201  \n",
       "1              -0.358084              69.127267          111.980515  \n",
       "2               0.596245              83.555279           85.973903  \n",
       "3               2.321099              88.968961          134.671788  \n",
       "4              -0.879640              87.279612           90.702399  "
      ]
     },
     "execution_count": 65,
     "metadata": {},
     "output_type": "execute_result"
    }
   ],
   "source": [
    "#Convert percentage and ratio columns to numeric\n",
    "columns = ['mortgage_rate_(%)', 'inflation_rate_(%)',\n",
    "       'gdp_growth_(%)', 'population_growth_(%)', 'urbanization_rate_(%)']\n",
    "\n",
    "for col in columns:\n",
    "    df[col] = pd.to_numeric(df[col], errors='coerce') \n",
    "\n"
   ]
  },
  {
   "cell_type": "code",
   "execution_count": 67,
   "id": "910ac4aa",
   "metadata": {},
   "outputs": [],
   "source": [
    "#convert ratio columns to numeric\n",
    "\n",
    "ratio_columns = ['house_price_index', 'rent_index',\n",
    "       'affordability_ratio', 'construction_index']\n",
    "\n",
    "for cols in ratio_columns:\n",
    "    df[cols] = pd.to_numeric(df[cols], errors='coerce')\n",
    "\n",
    "\n"
   ]
  },
  {
   "cell_type": "code",
   "execution_count": 68,
   "id": "abfcee66",
   "metadata": {},
   "outputs": [
    {
     "name": "stdout",
     "output_type": "stream",
     "text": [
      "  country       year  house_price_index  rent_index  affordability_ratio  \\\n",
      "0     USA 2015-01-01         117.454012  116.550001             9.587945   \n",
      "1     USA 2016-01-01         150.807258   51.440915            11.729189   \n",
      "2     USA 2017-01-01         123.194502   70.386040             8.506676   \n",
      "3     USA 2018-01-01         131.423444   91.469020             3.418054   \n",
      "4     USA 2019-01-01         110.461377   56.837048             9.158097   \n",
      "\n",
      "   mortgage_rate_(%)  inflation_rate_(%)  gdp_growth_(%)  \\\n",
      "0           4.493292            1.514121       -0.752044   \n",
      "1           5.662213            1.880204       -0.545400   \n",
      "2           2.197469            2.398940        0.930895   \n",
      "3           4.537724            1.608407       -1.479587   \n",
      "4           3.700762            1.293249        1.961415   \n",
      "\n",
      "   population_growth_(%)  urbanization_rate_(%)  construction_index  \n",
      "0              -0.796707              85.985284          118.089201  \n",
      "1              -0.358084              69.127267          111.980515  \n",
      "2               0.596245              83.555279           85.973903  \n",
      "3               2.321099              88.968961          134.671788  \n",
      "4              -0.879640              87.279612           90.702399  \n"
     ]
    }
   ],
   "source": [
    "df = df.head()\n",
    "print(df)"
   ]
  },
  {
   "cell_type": "code",
   "execution_count": 69,
   "id": "e09be163",
   "metadata": {},
   "outputs": [
    {
     "data": {
      "text/html": [
       "<div>\n",
       "<style scoped>\n",
       "    .dataframe tbody tr th:only-of-type {\n",
       "        vertical-align: middle;\n",
       "    }\n",
       "\n",
       "    .dataframe tbody tr th {\n",
       "        vertical-align: top;\n",
       "    }\n",
       "\n",
       "    .dataframe thead th {\n",
       "        text-align: right;\n",
       "    }\n",
       "</style>\n",
       "<table border=\"1\" class=\"dataframe\">\n",
       "  <thead>\n",
       "    <tr style=\"text-align: right;\">\n",
       "      <th></th>\n",
       "      <th>country</th>\n",
       "      <th>year</th>\n",
       "      <th>house_price_index</th>\n",
       "      <th>rent_index</th>\n",
       "      <th>affordability_ratio</th>\n",
       "      <th>mortgage_rate_(%)</th>\n",
       "      <th>inflation_rate_(%)</th>\n",
       "      <th>gdp_growth_(%)</th>\n",
       "      <th>population_growth_(%)</th>\n",
       "      <th>urbanization_rate_(%)</th>\n",
       "      <th>construction_index</th>\n",
       "    </tr>\n",
       "  </thead>\n",
       "  <tbody>\n",
       "    <tr>\n",
       "      <th>0</th>\n",
       "      <td>USA</td>\n",
       "      <td>2015-01-01</td>\n",
       "      <td>117.454012</td>\n",
       "      <td>116.550001</td>\n",
       "      <td>9.587945</td>\n",
       "      <td>4.493292</td>\n",
       "      <td>1.514121</td>\n",
       "      <td>-0.752044</td>\n",
       "      <td>-0.796707</td>\n",
       "      <td>85.985284</td>\n",
       "      <td>118.089201</td>\n",
       "    </tr>\n",
       "    <tr>\n",
       "      <th>1</th>\n",
       "      <td>USA</td>\n",
       "      <td>2016-01-01</td>\n",
       "      <td>150.807258</td>\n",
       "      <td>51.440915</td>\n",
       "      <td>11.729189</td>\n",
       "      <td>5.662213</td>\n",
       "      <td>1.880204</td>\n",
       "      <td>-0.545400</td>\n",
       "      <td>-0.358084</td>\n",
       "      <td>69.127267</td>\n",
       "      <td>111.980515</td>\n",
       "    </tr>\n",
       "    <tr>\n",
       "      <th>2</th>\n",
       "      <td>USA</td>\n",
       "      <td>2017-01-01</td>\n",
       "      <td>123.194502</td>\n",
       "      <td>70.386040</td>\n",
       "      <td>8.506676</td>\n",
       "      <td>2.197469</td>\n",
       "      <td>2.398940</td>\n",
       "      <td>0.930895</td>\n",
       "      <td>0.596245</td>\n",
       "      <td>83.555279</td>\n",
       "      <td>85.973903</td>\n",
       "    </tr>\n",
       "    <tr>\n",
       "      <th>3</th>\n",
       "      <td>USA</td>\n",
       "      <td>2018-01-01</td>\n",
       "      <td>131.423444</td>\n",
       "      <td>91.469020</td>\n",
       "      <td>3.418054</td>\n",
       "      <td>4.537724</td>\n",
       "      <td>1.608407</td>\n",
       "      <td>-1.479587</td>\n",
       "      <td>2.321099</td>\n",
       "      <td>88.968961</td>\n",
       "      <td>134.671788</td>\n",
       "    </tr>\n",
       "    <tr>\n",
       "      <th>4</th>\n",
       "      <td>USA</td>\n",
       "      <td>2019-01-01</td>\n",
       "      <td>110.461377</td>\n",
       "      <td>56.837048</td>\n",
       "      <td>9.158097</td>\n",
       "      <td>3.700762</td>\n",
       "      <td>1.293249</td>\n",
       "      <td>1.961415</td>\n",
       "      <td>-0.879640</td>\n",
       "      <td>87.279612</td>\n",
       "      <td>90.702399</td>\n",
       "    </tr>\n",
       "  </tbody>\n",
       "</table>\n",
       "</div>"
      ],
      "text/plain": [
       "  country       year  house_price_index  rent_index  affordability_ratio  \\\n",
       "0     USA 2015-01-01         117.454012  116.550001             9.587945   \n",
       "1     USA 2016-01-01         150.807258   51.440915            11.729189   \n",
       "2     USA 2017-01-01         123.194502   70.386040             8.506676   \n",
       "3     USA 2018-01-01         131.423444   91.469020             3.418054   \n",
       "4     USA 2019-01-01         110.461377   56.837048             9.158097   \n",
       "\n",
       "   mortgage_rate_(%)  inflation_rate_(%)  gdp_growth_(%)  \\\n",
       "0           4.493292            1.514121       -0.752044   \n",
       "1           5.662213            1.880204       -0.545400   \n",
       "2           2.197469            2.398940        0.930895   \n",
       "3           4.537724            1.608407       -1.479587   \n",
       "4           3.700762            1.293249        1.961415   \n",
       "\n",
       "   population_growth_(%)  urbanization_rate_(%)  construction_index  \n",
       "0              -0.796707              85.985284          118.089201  \n",
       "1              -0.358084              69.127267          111.980515  \n",
       "2               0.596245              83.555279           85.973903  \n",
       "3               2.321099              88.968961          134.671788  \n",
       "4              -0.879640              87.279612           90.702399  "
      ]
     },
     "execution_count": 69,
     "metadata": {},
     "output_type": "execute_result"
    }
   ],
   "source": [
    "df.tail()"
   ]
  },
  {
   "cell_type": "code",
   "execution_count": 70,
   "id": "17d37c39",
   "metadata": {},
   "outputs": [
    {
     "data": {
      "text/html": [
       "<div>\n",
       "<style scoped>\n",
       "    .dataframe tbody tr th:only-of-type {\n",
       "        vertical-align: middle;\n",
       "    }\n",
       "\n",
       "    .dataframe tbody tr th {\n",
       "        vertical-align: top;\n",
       "    }\n",
       "\n",
       "    .dataframe thead th {\n",
       "        text-align: right;\n",
       "    }\n",
       "</style>\n",
       "<table border=\"1\" class=\"dataframe\">\n",
       "  <thead>\n",
       "    <tr style=\"text-align: right;\">\n",
       "      <th></th>\n",
       "      <th>country</th>\n",
       "      <th>year</th>\n",
       "      <th>house_price_index</th>\n",
       "      <th>rent_index</th>\n",
       "      <th>affordability_ratio</th>\n",
       "      <th>mortgage_rate_(%)</th>\n",
       "      <th>inflation_rate_(%)</th>\n",
       "      <th>gdp_growth_(%)</th>\n",
       "      <th>population_growth_(%)</th>\n",
       "      <th>urbanization_rate_(%)</th>\n",
       "      <th>construction_index</th>\n",
       "    </tr>\n",
       "  </thead>\n",
       "  <tbody>\n",
       "    <tr>\n",
       "      <th>0</th>\n",
       "      <td>USA</td>\n",
       "      <td>2015-01-01</td>\n",
       "      <td>117.454012</td>\n",
       "      <td>116.550001</td>\n",
       "      <td>9.587945</td>\n",
       "      <td>4.493292</td>\n",
       "      <td>1.514121</td>\n",
       "      <td>-0.752044</td>\n",
       "      <td>-0.796707</td>\n",
       "      <td>85.985284</td>\n",
       "      <td>118.089201</td>\n",
       "    </tr>\n",
       "    <tr>\n",
       "      <th>1</th>\n",
       "      <td>USA</td>\n",
       "      <td>2016-01-01</td>\n",
       "      <td>150.807258</td>\n",
       "      <td>51.440915</td>\n",
       "      <td>11.729189</td>\n",
       "      <td>5.662213</td>\n",
       "      <td>1.880204</td>\n",
       "      <td>-0.545400</td>\n",
       "      <td>-0.358084</td>\n",
       "      <td>69.127267</td>\n",
       "      <td>111.980515</td>\n",
       "    </tr>\n",
       "    <tr>\n",
       "      <th>2</th>\n",
       "      <td>USA</td>\n",
       "      <td>2017-01-01</td>\n",
       "      <td>123.194502</td>\n",
       "      <td>70.386040</td>\n",
       "      <td>8.506676</td>\n",
       "      <td>2.197469</td>\n",
       "      <td>2.398940</td>\n",
       "      <td>0.930895</td>\n",
       "      <td>0.596245</td>\n",
       "      <td>83.555279</td>\n",
       "      <td>85.973903</td>\n",
       "    </tr>\n",
       "    <tr>\n",
       "      <th>3</th>\n",
       "      <td>USA</td>\n",
       "      <td>2018-01-01</td>\n",
       "      <td>131.423444</td>\n",
       "      <td>91.469020</td>\n",
       "      <td>3.418054</td>\n",
       "      <td>4.537724</td>\n",
       "      <td>1.608407</td>\n",
       "      <td>-1.479587</td>\n",
       "      <td>2.321099</td>\n",
       "      <td>88.968961</td>\n",
       "      <td>134.671788</td>\n",
       "    </tr>\n",
       "    <tr>\n",
       "      <th>4</th>\n",
       "      <td>USA</td>\n",
       "      <td>2019-01-01</td>\n",
       "      <td>110.461377</td>\n",
       "      <td>56.837048</td>\n",
       "      <td>9.158097</td>\n",
       "      <td>3.700762</td>\n",
       "      <td>1.293249</td>\n",
       "      <td>1.961415</td>\n",
       "      <td>-0.879640</td>\n",
       "      <td>87.279612</td>\n",
       "      <td>90.702399</td>\n",
       "    </tr>\n",
       "  </tbody>\n",
       "</table>\n",
       "</div>"
      ],
      "text/plain": [
       "  country       year  house_price_index  rent_index  affordability_ratio  \\\n",
       "0     USA 2015-01-01         117.454012  116.550001             9.587945   \n",
       "1     USA 2016-01-01         150.807258   51.440915            11.729189   \n",
       "2     USA 2017-01-01         123.194502   70.386040             8.506676   \n",
       "3     USA 2018-01-01         131.423444   91.469020             3.418054   \n",
       "4     USA 2019-01-01         110.461377   56.837048             9.158097   \n",
       "\n",
       "   mortgage_rate_(%)  inflation_rate_(%)  gdp_growth_(%)  \\\n",
       "0           4.493292            1.514121       -0.752044   \n",
       "1           5.662213            1.880204       -0.545400   \n",
       "2           2.197469            2.398940        0.930895   \n",
       "3           4.537724            1.608407       -1.479587   \n",
       "4           3.700762            1.293249        1.961415   \n",
       "\n",
       "   population_growth_(%)  urbanization_rate_(%)  construction_index  \n",
       "0              -0.796707              85.985284          118.089201  \n",
       "1              -0.358084              69.127267          111.980515  \n",
       "2               0.596245              83.555279           85.973903  \n",
       "3               2.321099              88.968961          134.671788  \n",
       "4              -0.879640              87.279612           90.702399  "
      ]
     },
     "execution_count": 70,
     "metadata": {},
     "output_type": "execute_result"
    }
   ],
   "source": [
    "df.head(20)"
   ]
  },
  {
   "cell_type": "code",
   "execution_count": null,
   "id": "af8c2a14",
   "metadata": {},
   "outputs": [],
   "source": []
  }
 ],
 "metadata": {
  "kernelspec": {
   "display_name": "Python 3",
   "language": "python",
   "name": "python3"
  },
  "language_info": {
   "codemirror_mode": {
    "name": "ipython",
    "version": 3
   },
   "file_extension": ".py",
   "mimetype": "text/x-python",
   "name": "python",
   "nbconvert_exporter": "python",
   "pygments_lexer": "ipython3",
   "version": "3.12.6"
  }
 },
 "nbformat": 4,
 "nbformat_minor": 5
}
