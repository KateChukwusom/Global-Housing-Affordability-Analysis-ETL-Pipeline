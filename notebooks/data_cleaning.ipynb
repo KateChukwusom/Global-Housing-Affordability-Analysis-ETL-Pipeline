{
 "cells": [
  {
   "cell_type": "code",
   "execution_count": null,
   "id": "b85ea61f",
   "metadata": {},
   "outputs": [],
   "source": [
    "#Opendatasets to download kaggle dataset\n",
    "%pip install opendatasets "
   ]
  },
  {
   "cell_type": "code",
   "execution_count": null,
   "id": "c58fa20f",
   "metadata": {},
   "outputs": [],
   "source": [
    "#import the necessary libraries\n",
    "import opendatasets as od\n",
    "import pandas as pd "
   ]
  },
  {
   "cell_type": "code",
   "execution_count": null,
   "id": "c1bf7634",
   "metadata": {},
   "outputs": [],
   "source": [
    "dataset = \"https://www.kaggle.com/datasets/atharvasoundankar/global-housing-market-analysis-2015-2024\" "
   ]
  },
  {
   "cell_type": "code",
   "execution_count": null,
   "id": "af5019d5",
   "metadata": {},
   "outputs": [],
   "source": [
    "od.download(dataset)"
   ]
  },
  {
   "cell_type": "code",
   "execution_count": null,
   "id": "977e593f",
   "metadata": {},
   "outputs": [],
   "source": [
    "import os"
   ]
  },
  {
   "cell_type": "code",
   "execution_count": null,
   "id": "11a71d08",
   "metadata": {},
   "outputs": [],
   "source": [
    "#file path \n",
    "data_dir = ('./global-housing-market-analysis-2015-2024')"
   ]
  },
  {
   "cell_type": "code",
   "execution_count": null,
   "id": "68cd3332",
   "metadata": {},
   "outputs": [],
   "source": [
    "os.listdir(data_dir)  "
   ]
  },
  {
   "cell_type": "code",
   "execution_count": null,
   "id": "dd026603",
   "metadata": {},
   "outputs": [],
   "source": [
    "df = pd.read_csv('global_housing_market_extended.csv')"
   ]
  },
  {
   "cell_type": "code",
   "execution_count": null,
   "id": "0fd9c9e2",
   "metadata": {},
   "outputs": [],
   "source": [
    "df = df.head()\n",
    "print(df)"
   ]
  },
  {
   "cell_type": "code",
   "execution_count": 78,
   "id": "c2ef2473",
   "metadata": {},
   "outputs": [
    {
     "data": {
      "text/plain": [
       "Index(['country', 'year', 'house_price_index', 'rent_index',\n",
       "       'affordability_ratio', 'mortgage_rate_(%)', 'inflation_rate_(%)',\n",
       "       'gdp_growth_(%)', 'population_growth_(%)', 'urbanization_rate_(%)',\n",
       "       'construction_index'],\n",
       "      dtype='object')"
      ]
     },
     "execution_count": 78,
     "metadata": {},
     "output_type": "execute_result"
    }
   ],
   "source": [
    "df.columns"
   ]
  },
  {
   "cell_type": "code",
   "execution_count": 80,
   "id": "0f15696b",
   "metadata": {},
   "outputs": [
    {
     "data": {
      "text/plain": [
       "country                  0\n",
       "year                     0\n",
       "house_price_index        0\n",
       "rent_index               0\n",
       "affordability_ratio      0\n",
       "mortgage_rate_(%)        0\n",
       "inflation_rate_(%)       0\n",
       "gdp_growth_(%)           0\n",
       "population_growth_(%)    0\n",
       "urbanization_rate_(%)    0\n",
       "construction_index       0\n",
       "dtype: int64"
      ]
     },
     "execution_count": 80,
     "metadata": {},
     "output_type": "execute_result"
    }
   ],
   "source": [
    "#Check for missing and inconsistent data\n",
    "\n",
    "df.isnull().sum()"
   ]
  },
  {
   "cell_type": "code",
   "execution_count": 79,
   "id": "fd4e22aa",
   "metadata": {},
   "outputs": [
    {
     "data": {
      "text/plain": [
       "np.int64(0)"
      ]
     },
     "execution_count": 79,
     "metadata": {},
     "output_type": "execute_result"
    }
   ],
   "source": [
    "#check for duplicates\n",
    "df.duplicated().sum()"
   ]
  },
  {
   "cell_type": "code",
   "execution_count": 82,
   "id": "42c98c6a",
   "metadata": {},
   "outputs": [],
   "source": [
    "#convert data types\n",
    "df['year'] = pd.to_datetime(df['year'], format= '%Y', errors= 'coerce') "
   ]
  },
  {
   "cell_type": "code",
   "execution_count": null,
   "id": "38d715f6",
   "metadata": {},
   "outputs": [],
   "source": [
    "#standardize column names\n",
    "df.columns = df.columns.str.strip().str.lower().str.replace(\" \", \"_\") "
   ]
  },
  {
   "cell_type": "code",
   "execution_count": 83,
   "id": "b9d86533",
   "metadata": {},
   "outputs": [
    {
     "data": {
      "text/plain": [
       "Index(['country', 'year', 'house_price_index', 'rent_index',\n",
       "       'affordability_ratio', 'mortgage_rate_(%)', 'inflation_rate_(%)',\n",
       "       'gdp_growth_(%)', 'population_growth_(%)', 'urbanization_rate_(%)',\n",
       "       'construction_index'],\n",
       "      dtype='object')"
      ]
     },
     "execution_count": 83,
     "metadata": {},
     "output_type": "execute_result"
    }
   ],
   "source": [
    "#Check out the columns again after standardizing \n",
    "df.columns"
   ]
  },
  {
   "cell_type": "code",
   "execution_count": null,
   "id": "02568f4f",
   "metadata": {},
   "outputs": [],
   "source": [
    "#Convert percentage and ratio columns to numeric\n",
    "columns = ['mortgage_rate_(%)', 'inflation_rate_(%)',\n",
    "       'gdp_growth_(%)', 'population_growth_(%)', 'urbanization_rate_(%)']\n",
    "\n",
    "for col in columns:\n",
    "    df[col] = pd.to_numeric(df[col], errors='coerce') \n",
    "\n"
   ]
  },
  {
   "cell_type": "code",
   "execution_count": null,
   "id": "910ac4aa",
   "metadata": {},
   "outputs": [],
   "source": [
    "#convert ratio columns to numeric\n",
    "\n",
    "ratio_columns = ['house_price_index', 'rent_index',\n",
    "       'affordability_ratio', 'construction_index']\n",
    "\n",
    "for cols in ratio_columns:\n",
    "    df[cols] = pd.to_numeric(df[cols], errors='coerce')\n",
    "\n",
    "\n"
   ]
  },
  {
   "cell_type": "code",
   "execution_count": null,
   "id": "abfcee66",
   "metadata": {},
   "outputs": [],
   "source": [
    "df = df.head()\n",
    "print(df)"
   ]
  },
  {
   "cell_type": "code",
   "execution_count": null,
   "id": "e09be163",
   "metadata": {},
   "outputs": [],
   "source": [
    "df.tail()"
   ]
  },
  {
   "cell_type": "code",
   "execution_count": null,
   "id": "17d37c39",
   "metadata": {},
   "outputs": [],
   "source": [
    "df.head(20)"
   ]
  },
  {
   "cell_type": "code",
   "execution_count": null,
   "id": "af8c2a14",
   "metadata": {},
   "outputs": [],
   "source": [
    "os.makedirs(\"./data/cleaned/\", exist_ok=True)"
   ]
  },
  {
   "cell_type": "code",
   "execution_count": 84,
   "id": "13daacbe",
   "metadata": {},
   "outputs": [],
   "source": [
    "#save the cleaned data \n",
    "df.to_csv(\"./data/cleaned/cleaned_housing_data.csv\", index=False)  "
   ]
  },
  {
   "cell_type": "code",
   "execution_count": null,
   "id": "5e174871",
   "metadata": {},
   "outputs": [],
   "source": []
  }
 ],
 "metadata": {
  "kernelspec": {
   "display_name": "Python 3",
   "language": "python",
   "name": "python3"
  },
  "language_info": {
   "codemirror_mode": {
    "name": "ipython",
    "version": 3
   },
   "file_extension": ".py",
   "mimetype": "text/x-python",
   "name": "python",
   "nbconvert_exporter": "python",
   "pygments_lexer": "ipython3",
   "version": "3.12.6"
  }
 },
 "nbformat": 4,
 "nbformat_minor": 5
}
